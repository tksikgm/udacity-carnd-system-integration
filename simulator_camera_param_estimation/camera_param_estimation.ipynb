{
 "cells": [
  {
   "cell_type": "markdown",
   "metadata": {},
   "source": [
    "### Description\n",
    "Camera and image parameters (fx, fy, cx, cy) is estimated by solving a linear matrix equation.\n",
    "![](image/notebook/point-projection-formula.png)\n",
    "[OpenCV documentation: Camera Calibration and 3D Reconstruction](http://docs.opencv.org/2.4/modules/calib3d/doc/camera_calibration_and_3d_reconstruction.html)"
   ]
  },
  {
   "cell_type": "code",
   "execution_count": 1,
   "metadata": {
    "collapsed": true
   },
   "outputs": [],
   "source": [
    "import numpy as np"
   ]
  },
  {
   "cell_type": "code",
   "execution_count": 2,
   "metadata": {
    "collapsed": false
   },
   "outputs": [],
   "source": [
    "# Point coordinate read from simulator image. (./image/simulator/*.png)\n",
    "x = np.array([  0.55,   4.25,  -3.02,  17.57, -15.08])\n",
    "y = np.array([ -5.47,  -5.45,  -5.45,  -5.55,  -5.55])\n",
    "z = np.array([ 41.07,  27.21,  25.04, 117.30, 124.05])\n",
    "u = np.array([400,    770,     61,    743,     53   ])\n",
    "v = np.array([353,    203,    147,    551,    541   ])"
   ]
  },
  {
   "cell_type": "code",
   "execution_count": 3,
   "metadata": {
    "collapsed": true
   },
   "outputs": [],
   "source": [
    "# X denotes x' in equation at the top. Same for Y and y'.\n",
    "X = np.vstack([x/z, np.ones(5)])\n",
    "Y = np.vstack([y/z, np.ones(5)])"
   ]
  },
  {
   "cell_type": "markdown",
   "metadata": {},
   "source": [
    "[numpy.linalg.lstsq](https://docs.scipy.org/doc/numpy-1.13.0/reference/generated/numpy.linalg.lstsq.html)"
   ]
  },
  {
   "cell_type": "code",
   "execution_count": 4,
   "metadata": {
    "collapsed": true
   },
   "outputs": [],
   "source": [
    "# Solve equations.\n",
    "(fx,cx),_,_,_ = np.linalg.lstsq(X.T, u.T)\n",
    "(fy,cy),_,_,_ = np.linalg.lstsq(Y.T, v.T)"
   ]
  },
  {
   "cell_type": "markdown",
   "metadata": {},
   "source": [
    "Estimated parameters."
   ]
  },
  {
   "cell_type": "code",
   "execution_count": 5,
   "metadata": {
    "collapsed": false
   },
   "outputs": [
    {
     "name": "stdout",
     "output_type": "stream",
     "text": [
      "fx: 2552.71\n",
      "fy: 2280.49\n",
      "cx: 365.99\n",
      "cy: 652.36\n"
     ]
    }
   ],
   "source": [
    "print('fx: %.2f' % fx)\n",
    "print('fy: %.2f' % fy)\n",
    "print('cx: %.2f' % cx)\n",
    "print('cy: %.2f' % cy)"
   ]
  },
  {
   "cell_type": "markdown",
   "metadata": {},
   "source": [
    "Check the accuracy by projecting points."
   ]
  },
  {
   "cell_type": "code",
   "execution_count": 6,
   "metadata": {
    "collapsed": false,
    "scrolled": true
   },
   "outputs": [
    {
     "data": {
      "text/plain": [
       "array([ 400.17129872,  764.70101136,   58.110599  ,  748.34907426,\n",
       "         55.66801667])"
      ]
     },
     "execution_count": 6,
     "metadata": {},
     "output_type": "execute_result"
    }
   ],
   "source": [
    "np.matmul(X.T, np.array([fx,cx]).T)"
   ]
  },
  {
   "cell_type": "code",
   "execution_count": 7,
   "metadata": {
    "collapsed": false
   },
   "outputs": [
    {
     "data": {
      "text/plain": [
       "array([ 348.62439758,  195.58788942,  156.00366928,  544.45639601,\n",
       "        550.32764771])"
      ]
     },
     "execution_count": 7,
     "metadata": {},
     "output_type": "execute_result"
    }
   ],
   "source": [
    "np.matmul(Y.T, np.array([fy,cy]).T)"
   ]
  },
  {
   "cell_type": "markdown",
   "metadata": {},
   "source": [
    "Increasing input images may be improve accuracy."
   ]
  }
 ],
 "metadata": {
  "kernelspec": {
   "display_name": "Python 3",
   "language": "python",
   "name": "python3"
  },
  "language_info": {
   "codemirror_mode": {
    "name": "ipython",
    "version": 3
   },
   "file_extension": ".py",
   "mimetype": "text/x-python",
   "name": "python",
   "nbconvert_exporter": "python",
   "pygments_lexer": "ipython3",
   "version": "3.5.2"
  }
 },
 "nbformat": 4,
 "nbformat_minor": 1
}
